{
 "cells": [
  {
   "cell_type": "code",
   "execution_count": null,
   "id": "96679a7f-8c83-4758-b6c9-15f2442dff7f",
   "metadata": {},
   "outputs": [],
   "source": [
    "\"\"\"\n",
    "Topic - Python Basics Variables\n",
    "\"\"\""
   ]
  },
  {
   "cell_type": "code",
   "execution_count": 1,
   "id": "2977909a-5071-487b-b4b4-1d79653e54d0",
   "metadata": {},
   "outputs": [
    {
     "name": "stdout",
     "output_type": "stream",
     "text": [
      "Before swapping the integral values of a and b are 5 and 4 respectively.\n",
      "After swapping the integral values of a and b are 4 and 5 respectively.\n"
     ]
    }
   ],
   "source": [
    "# Question 1-\n",
    "a = 5\n",
    "b = 4\n",
    "print(f\"Before swapping the integral values of a and b are {a} and {b} respectively.\")\n",
    "# Swapping task -\n",
    "a = a + b\n",
    "b = a - b\n",
    "a = a - b\n",
    "print(f\"After swapping the integral values of a and b are {a} and {b} respectively.\")\n"
   ]
  },
  {
   "cell_type": "code",
   "execution_count": 2,
   "id": "21e5a04c-5864-4140-b7b5-88c077a3630b",
   "metadata": {},
   "outputs": [
    {
     "name": "stdin",
     "output_type": "stream",
     "text": [
      "Please enter the length of the rectangle:  5\n",
      "Please enter the width of the rectangle:  12\n"
     ]
    },
    {
     "name": "stdout",
     "output_type": "stream",
     "text": [
      "Area of the rectangle is:  60\n"
     ]
    }
   ],
   "source": [
    "# Question 2-\n",
    "length = int(input(\"Please enter the length of the rectangle: \"))\n",
    "width = int(input(\"Please enter the width of the rectangle: \"))\n",
    "print(\"Area of the rectangle is: \", length * width)\n",
    "             "
   ]
  },
  {
   "cell_type": "code",
   "execution_count": 3,
   "id": "57c00d8d-21d8-4418-858b-8cc0f92cc2b1",
   "metadata": {},
   "outputs": [
    {
     "name": "stdin",
     "output_type": "stream",
     "text": [
      "Please enter the temperature in celcius to get it convert to fahrenheit:  32\n"
     ]
    },
    {
     "name": "stdout",
     "output_type": "stream",
     "text": [
      "After conversion from celcius to fahrenheit is 89.60°F\n"
     ]
    }
   ],
   "source": [
    "# Question 3 \n",
    "celcius = float(input(\"Please enter the temperature in celcius to get it convert to fahrenheit: \"))\n",
    "fahrenheit = (celcius*(9/5))+32\n",
    "print(\"After conversion from celcius to fahrenheit is {:.2f}°F\".format(fahrenheit))"
   ]
  },
  {
   "cell_type": "code",
   "execution_count": null,
   "id": "5a79172e-3398-47da-89c5-5a9ddf0cf9eb",
   "metadata": {},
   "outputs": [],
   "source": [
    "\"\"\"\n",
    "Topic - String Based Questions\n",
    "\"\"\""
   ]
  },
  {
   "cell_type": "code",
   "execution_count": 4,
   "id": "558a5c20-6a6a-4418-acc2-3dbda489c74b",
   "metadata": {},
   "outputs": [
    {
     "name": "stdin",
     "output_type": "stream",
     "text": [
      "Please enter any string to get its length print My name is surbhit vishwakarma\n"
     ]
    },
    {
     "name": "stdout",
     "output_type": "stream",
     "text": [
      "Length of the string that you have entered : 30\n"
     ]
    }
   ],
   "source": [
    "# Question 1\n",
    "input_string = input(\"Please enter any string to get its length print\")\n",
    "print(\"Length of the string that you have entered : {}\".format(len(input_string)))\n"
   ]
  },
  {
   "cell_type": "code",
   "execution_count": 5,
   "id": "b4161637-81d7-4094-b5cc-4b39026363db",
   "metadata": {},
   "outputs": [
    {
     "name": "stdin",
     "output_type": "stream",
     "text": [
      "Please enter the string to count the total number of vowels:  Hello World!!\n"
     ]
    },
    {
     "name": "stdout",
     "output_type": "stream",
     "text": [
      "Total number of vowels present in the given string is 3\n"
     ]
    }
   ],
   "source": [
    "# Question 2\n",
    "input_string = input(\"Please enter the string to count the total number of vowels: \")\n",
    "res = 0\n",
    "for char in input_string:\n",
    "    if char in \"aeiouAEIOU\":\n",
    "        res += 1\n",
    "\n",
    "print(f\"Total number of vowels present in the given string is {res}\")"
   ]
  },
  {
   "cell_type": "code",
   "execution_count": 6,
   "id": "1e1e2a7f-092f-4018-9488-03686edbd826",
   "metadata": {},
   "outputs": [
    {
     "name": "stdin",
     "output_type": "stream",
     "text": [
      "Please enter the string to get reversed:  Hello World !!\n"
     ]
    },
    {
     "name": "stdout",
     "output_type": "stream",
     "text": [
      "After reversing : !! dlroW olleH\n"
     ]
    }
   ],
   "source": [
    "# Question 3\n",
    "input_string = input(\"Please enter the string to get reversed: \")\n",
    "input_string = input_string[::-1]\n",
    "print(f\"After reversing : {input_string}\")"
   ]
  },
  {
   "cell_type": "code",
   "execution_count": 8,
   "id": "3025de45-e2ae-46e9-b122-21cc9b3f7a81",
   "metadata": {},
   "outputs": [
    {
     "name": "stdin",
     "output_type": "stream",
     "text": [
      "Please enter the string to check for pallindrome:  Madam\n"
     ]
    },
    {
     "name": "stdout",
     "output_type": "stream",
     "text": [
      "Yes the given string a pallindrome\n"
     ]
    }
   ],
   "source": [
    "# Question 4 \n",
    "input_string = input(\"Please enter the string to check for pallindrome: \").lower()\n",
    "reversed_string = input_string[::-1]\n",
    "if(input_string == reversed_string):\n",
    "    print(\"Yes the given string a pallindrome\")\n",
    "else:\n",
    "    print(\"The given string is not a pallindrome\")"
   ]
  },
  {
   "cell_type": "code",
   "execution_count": 9,
   "id": "b84d9a7d-b1fc-4361-8083-a08ebf75776f",
   "metadata": {},
   "outputs": [
    {
     "name": "stdin",
     "output_type": "stream",
     "text": [
      "Enter a string with spaces:  Hello World, My name is Surbhit!!\n"
     ]
    },
    {
     "name": "stdout",
     "output_type": "stream",
     "text": [
      "String with spaces removed:  HelloWorld,MynameisSurbhit!!\n"
     ]
    }
   ],
   "source": [
    "# Question 5\n",
    "input_string = input(\"Enter a string with spaces: \")\n",
    "result = input_string.replace(\" \", \"\")\n",
    "print(\"String with spaces removed: \", result)\n"
   ]
  },
  {
   "cell_type": "code",
   "execution_count": null,
   "id": "2a564baf-5b8a-41b0-a100-f115ef5686e3",
   "metadata": {},
   "outputs": [],
   "source": []
  }
 ],
 "metadata": {
  "kernelspec": {
   "display_name": "Python 3 (ipykernel)",
   "language": "python",
   "name": "python3"
  },
  "language_info": {
   "codemirror_mode": {
    "name": "ipython",
    "version": 3
   },
   "file_extension": ".py",
   "mimetype": "text/x-python",
   "name": "python",
   "nbconvert_exporter": "python",
   "pygments_lexer": "ipython3",
   "version": "3.11.7"
  }
 },
 "nbformat": 4,
 "nbformat_minor": 5
}
